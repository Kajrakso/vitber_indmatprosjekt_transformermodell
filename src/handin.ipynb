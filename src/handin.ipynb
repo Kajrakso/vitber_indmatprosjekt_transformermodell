{
 "cells": [
  {
   "cell_type": "markdown",
   "metadata": {},
   "source": [
    "# 1\n",
    "\n",
    "## 1.1\n",
    "\n",
    "We want to train a model that predicts $d$ given $d = a \\cdot b + c$.\n",
    "$a$, $b$ and $c$ are non-negative and $a$ and $c$ are two-digit integers and $b$ is a one-digit integer.\n",
    "Write a three-digit number $n$ in base $10$ as $n_0 n_1 n_2$ ($n_0 \\cdot 10^2 + n_1 \\cdot 10^1 + n_2 \\cdot 10^0$).\n",
    "Since $d \\in \\{ 0, 990 \\}$ and we reverse the digits the training set $\\{x, y\\}$ would become:\n",
    "\n",
    "\\begin{align}\n",
    "    x &= [ a_0, a_1, b, c_0, c_1, d_2, d_1 ] \\\\\n",
    "    y &= [ a_1, b, c_0, c_1, d_2, d_1, d_0 ]\n",
    "\\end{align}\n",
    "\n",
    "A concrete example shows that padding with zeros keeps the length constant:\n",
    "\n",
    "$$\n",
    "    a = 5, b = 5, c = 33 \\\\\n",
    "    a \\cdot b + c = 58\n",
    "$$\n",
    "\n",
    "gives\n",
    "\n",
    "\\begin{align*}\n",
    "    x &= [0,5,5,3,3,8,5] \\\\\n",
    "    y &= [5,5,3,3,8,5,0].\n",
    "\\end{align*}"
   ]
  },
  {
   "cell_type": "markdown",
   "metadata": {},
   "source": [
    "# Sorting problem"
   ]
  },
  {
   "cell_type": "code",
   "execution_count": null,
   "metadata": {},
   "outputs": [],
   "source": [
    "from train_test_params import *\n",
    "sort_params = SortParams1()"
   ]
  },
  {
   "cell_type": "markdown",
   "metadata": {},
   "source": [
    "Prepare training and testing data for the sorting problem"
   ]
  },
  {
   "cell_type": "code",
   "execution_count": null,
   "metadata": {},
   "outputs": [],
   "source": [
    "from data_generators import get_train_test_sorting\n",
    "\n",
    "training_data = get_train_test_sorting(\n",
    "    length=sort_params.r,\n",
    "    num_ints=sort_params.m,\n",
    "    samples_per_batch=sort_params.D,\n",
    "    n_batches_train=sort_params.b_train,\n",
    "    n_batches_test=sort_params.b_test,\n",
    ")\n",
    "\n",
    "x_train = training_data[\"x_train\"]\n",
    "y_train = training_data[\"y_train\"][:, :, sort_params.r - 1:]\n",
    "x_test = training_data[\"x_test\"]\n",
    "y_test = training_data[\"y_test\"]"
   ]
  },
  {
   "cell_type": "markdown",
   "metadata": {},
   "source": [
    "Let's initialize the network"
   ]
  },
  {
   "cell_type": "code",
   "execution_count": null,
   "metadata": {},
   "outputs": [],
   "source": [
    "from train_network import init_neural_network\n",
    "\n",
    "network = init_neural_network(sort_params)"
   ]
  },
  {
   "cell_type": "markdown",
   "metadata": {},
   "source": [
    "Train the network using `CrossEntropy` as the loss function (object function)."
   ]
  },
  {
   "cell_type": "code",
   "execution_count": null,
   "metadata": {},
   "outputs": [],
   "source": [
    "from train_network import train_network\n",
    "from layers_numba import CrossEntropy\n",
    "\n",
    "loss = CrossEntropy()\n",
    "\n",
    "train_network(\n",
    "    network=network,\n",
    "    x_train=x_train,\n",
    "    y_train=y_train,\n",
    "    loss_func=loss,\n",
    "    alpha=sort_params.alpha,\n",
    "    n_iter=sort_params.n_iter,\n",
    "    num_ints=sort_params.m,\n",
    "    dump_to_pickle_file=False,\n",
    ")"
   ]
  },
  {
   "cell_type": "markdown",
   "metadata": {},
   "source": [
    "Or load a pre-trained network from a pickle dump"
   ]
  },
  {
   "cell_type": "code",
   "execution_count": null,
   "metadata": {},
   "outputs": [],
   "source": [
    "import dill as pickle\n",
    "\n",
    "with open(\"nn_dump_exer3.pkl\", \"rb\") as f:\n",
    "    network = pickle.load(f)"
   ]
  },
  {
   "cell_type": "code",
   "execution_count": null,
   "metadata": {},
   "outputs": [],
   "source": [
    "from test_network import test_trained_network\n",
    "\n",
    "test_trained_network(\n",
    "    network=network, x_test=x_test, y_test=y_test, num_ints=sort_params.m\n",
    ")"
   ]
  },
  {
   "cell_type": "markdown",
   "metadata": {},
   "source": [
    "# Addition problem"
   ]
  },
  {
   "cell_type": "code",
   "execution_count": null,
   "metadata": {},
   "outputs": [],
   "source": [
    "from train_test_params import AddParams\n",
    "\n",
    "add_params = AddParams()"
   ]
  },
  {
   "cell_type": "code",
   "execution_count": null,
   "metadata": {},
   "outputs": [],
   "source": [
    "from train_network import init_neural_network\n",
    "\n",
    "network = init_neural_network(add_params)"
   ]
  },
  {
   "cell_type": "code",
   "execution_count": null,
   "metadata": {},
   "outputs": [],
   "source": [
    "from data_generators import get_train_test_addition\n",
    "\n",
    "# prepare training and test data for addition problem\n",
    "training_data = get_train_test_addition(\n",
    "    n_digit = add_params.r,\n",
    "    samples_per_batch = add_params.D,\n",
    "    n_batches_train = add_params.b_train,\n",
    "    n_batches_test=add_params.b_test\n",
    ")\n",
    "\n",
    "x_train = training_data[\"x_train\"]\n",
    "y_train = training_data[\"y_train\"][:, :, add_params.r*2 - 1:]\n",
    "x_test = training_data[\"x_test\"]\n",
    "y_test = training_data[\"y_test\"][:, :, ::-1]    # remember that (c0, c1, c2) is reversed in the training data."
   ]
  },
  {
   "cell_type": "code",
   "execution_count": null,
   "metadata": {},
   "outputs": [],
   "source": [
    "from train_network import train_network\n",
    "from layers_numba import CrossEntropy\n",
    "\n",
    "loss = CrossEntropy()\n",
    "\n",
    "train_network(\n",
    "    network=network,\n",
    "    x_train=x_train,\n",
    "    y_train=y_train,\n",
    "    loss_func=loss,\n",
    "    alpha=add_params.alpha,\n",
    "    n_iter=add_params.n_iter,\n",
    "    num_ints=add_params.m,\n",
    "    is_numba_dump=True,\n",
    "    dump_to_pickle_file=True,\n",
    ")"
   ]
  },
  {
   "cell_type": "code",
   "execution_count": null,
   "metadata": {},
   "outputs": [],
   "source": [
    "import dill as pickle\n",
    "\n",
    "with open(\"nn_dump_add.pkl\", \"rb\") as f:\n",
    "    network = pickle.load(f)"
   ]
  },
  {
   "cell_type": "code",
   "execution_count": null,
   "metadata": {},
   "outputs": [],
   "source": [
    "from test_network import test_trained_network\n",
    "\n",
    "test_trained_network(\n",
    "    network=network, x_test=x_test, y_test=y_test, num_ints=add_params.m\n",
    ")"
   ]
  }
 ],
 "metadata": {
  "kernelspec": {
   "display_name": "vitber_indmatprosjekt_transformermodell-j3GqZX7I",
   "language": "python",
   "name": "python3"
  },
  "language_info": {
   "codemirror_mode": {
    "name": "ipython",
    "version": 3
   },
   "file_extension": ".py",
   "mimetype": "text/x-python",
   "name": "python",
   "nbconvert_exporter": "python",
   "pygments_lexer": "ipython3",
   "version": "3.11.8"
  }
 },
 "nbformat": 4,
 "nbformat_minor": 2
}
