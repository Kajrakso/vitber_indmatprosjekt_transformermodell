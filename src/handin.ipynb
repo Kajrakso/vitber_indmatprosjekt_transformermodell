{
 "cells": [
  {
   "cell_type": "markdown",
   "metadata": {},
   "source": [
    "Function that initializes a network using paramaters in a dictionary"
   ]
  },
  {
   "cell_type": "code",
   "execution_count": null,
   "metadata": {},
   "outputs": [],
   "source": [
    "from neural_network import NeuralNetwork\n",
    "from layers import Softmax, FeedForward, Attention, EmbedPosition, LinearLayer\n",
    "\n",
    "\n",
    "def init_neural_network(t_params):\n",
    "    \"\"\"t_params: training paramaters. see the functions in `train_test_params.py`.\"\"\"\n",
    "    transformer = [\n",
    "        (\n",
    "            FeedForward(d=t_params[\"d\"], p=t_params[\"p\"]),\n",
    "            Attention(d=t_params[\"d\"], k=t_params[\"k\"]),\n",
    "        )\n",
    "        for _ in range(t_params[\"L\"])\n",
    "    ]\n",
    "    embed_pos = EmbedPosition(\n",
    "        n_max=t_params[\"n_max\"], m=t_params[\"m\"], d=t_params[\"d\"]\n",
    "    )\n",
    "    un_embed = LinearLayer(input_size=t_params[\"d\"], output_size=t_params[\"m\"])\n",
    "    softmax = Softmax()\n",
    "\n",
    "    network = NeuralNetwork(\n",
    "        [\n",
    "            embed_pos,\n",
    "\n",
    "            # don't even try to understand this...\n",
    "            *[\n",
    "                t_layer\n",
    "                for transformer_layer in transformer\n",
    "                for t_layer in transformer_layer\n",
    "            ],\n",
    "            un_embed,\n",
    "            softmax,\n",
    "        ]\n",
    "    )\n",
    "    return network\n"
   ]
  },
  {
   "cell_type": "markdown",
   "metadata": {},
   "source": [
    "# Sorting problem"
   ]
  },
  {
   "cell_type": "code",
   "execution_count": 14,
   "metadata": {},
   "outputs": [],
   "source": [
    "from train_test_params import get_training_params_sort\n",
    "sort_params = get_training_params_sort()"
   ]
  },
  {
   "cell_type": "markdown",
   "metadata": {},
   "source": [
    "Prepare training and testing data for the sorting problem"
   ]
  },
  {
   "cell_type": "code",
   "execution_count": null,
   "metadata": {},
   "outputs": [],
   "source": [
    "from data_generators import get_train_test_sorting\n",
    "\n",
    "training_data = get_train_test_sorting(\n",
    "    length=sort_params['r'],\n",
    "    num_ints=sort_params['m'],\n",
    "    samples_per_batch=sort_params['D'],\n",
    "    n_batches_train=sort_params['b_train'],\n",
    "    n_batches_test=sort_params['b_test'],\n",
    ")\n",
    "\n",
    "x_train = training_data[\"x_train\"]\n",
    "y_train = training_data[\"y_train\"]\n",
    "x_test = training_data[\"x_test\"]\n",
    "y_test = training_data[\"y_test\"]"
   ]
  },
  {
   "cell_type": "markdown",
   "metadata": {},
   "source": [
    "Let's initialize the network"
   ]
  },
  {
   "cell_type": "code",
   "execution_count": null,
   "metadata": {},
   "outputs": [],
   "source": [
    "network = init_neural_network(sort_params)"
   ]
  },
  {
   "cell_type": "markdown",
   "metadata": {},
   "source": [
    "Train the network using `CrossEntropy` as the loss function (object function)."
   ]
  },
  {
   "cell_type": "code",
   "execution_count": null,
   "metadata": {},
   "outputs": [],
   "source": [
    "from train_network import train_network\n",
    "from layers import CrossEntropy\n",
    "\n",
    "loss = CrossEntropy()\n",
    "\n",
    "train_network(\n",
    "    network=network,\n",
    "    x_train=x_train,\n",
    "    y_train=y_train,\n",
    "    loss_func=loss,\n",
    "    alpha=sort_params['alpha'],\n",
    "    n_iter=sort_params['n_iter'],\n",
    "    num_ints=sort_params['m'],\n",
    "    dump_to_pickle_file=False,\n",
    ")"
   ]
  },
  {
   "cell_type": "markdown",
   "metadata": {},
   "source": [
    "Or load a pre-trained network from a pickle dump"
   ]
  },
  {
   "cell_type": "code",
   "execution_count": null,
   "metadata": {},
   "outputs": [],
   "source": [
    "import dill as pickle\n",
    "\n",
    "with open(\"nn_dump_exer3.pkl\", \"rb\") as f:\n",
    "    network = pickle.load(f)"
   ]
  },
  {
   "cell_type": "code",
   "execution_count": null,
   "metadata": {},
   "outputs": [],
   "source": [
    "from test_network import test_trained_network\n",
    "\n",
    "test_trained_network(\n",
    "    network=network, x_test=x_test, y_test=y_test, num_ints=sort_params['m']\n",
    ")"
   ]
  },
  {
   "cell_type": "markdown",
   "metadata": {},
   "source": [
    "# Addition problem"
   ]
  },
  {
   "cell_type": "code",
   "execution_count": null,
   "metadata": {},
   "outputs": [],
   "source": [
    "from train_test_params import get_training_params_addition\n",
    "add_params = get_training_params_addition()"
   ]
  },
  {
   "cell_type": "code",
   "execution_count": null,
   "metadata": {},
   "outputs": [],
   "source": [
    "network = init_neural_network(add_params)"
   ]
  },
  {
   "cell_type": "code",
   "execution_count": null,
   "metadata": {},
   "outputs": [],
   "source": [
    "from data_generators import get_train_test_addition\n",
    "\n",
    "# prepare training and test data for addition problem\n",
    "training_data = get_train_test_addition(\n",
    "    n_digit = add_params['r'],\n",
    "    samples_per_batch = add_params['D'],\n",
    "    n_batches_train = add_params['b_train'],\n",
    "    n_batches_test=add_params['b_test']\n",
    ")\n",
    "\n",
    "x_train = training_data[\"x_train\"]\n",
    "y_train = training_data[\"y_train\"]\n",
    "x_test = training_data[\"x_test\"]\n",
    "y_test = training_data[\"y_test\"][:, :, ::-1]    # remember that (c0, c1, c2) is reversed in the training data."
   ]
  },
  {
   "cell_type": "code",
   "execution_count": null,
   "metadata": {},
   "outputs": [],
   "source": [
    "from train_network import train_network\n",
    "from layers import CrossEntropy\n",
    "\n",
    "loss = CrossEntropy()\n",
    "\n",
    "train_network(\n",
    "    network=network,\n",
    "    x_train=x_train,\n",
    "    y_train=y_train,\n",
    "    loss_func=loss,\n",
    "    alpha=add_params['alpha'],\n",
    "    n_iter=add_params['n_iter'],\n",
    "    num_ints=add_params['m'],\n",
    "    dump_to_pickle_file=False,\n",
    ")"
   ]
  },
  {
   "cell_type": "code",
   "execution_count": null,
   "metadata": {},
   "outputs": [],
   "source": [
    "import dill as pickle\n",
    "\n",
    "with open(\"nn_dump_add.pkl\", \"rb\") as f:\n",
    "    network = pickle.load(f)"
   ]
  },
  {
   "cell_type": "code",
   "execution_count": null,
   "metadata": {},
   "outputs": [],
   "source": [
    "from test_network import test_trained_network\n",
    "\n",
    "test_trained_network(\n",
    "    network=network, x_test=x_test, y_test=y_test, num_ints=add_params['m']\n",
    ")"
   ]
  }
 ],
 "metadata": {
  "kernelspec": {
   "display_name": "vitber_indmatprosjekt_transformermodell-j3GqZX7I",
   "language": "python",
   "name": "python3"
  },
  "language_info": {
   "codemirror_mode": {
    "name": "ipython",
    "version": 3
   },
   "file_extension": ".py",
   "mimetype": "text/x-python",
   "name": "python",
   "nbconvert_exporter": "python",
   "pygments_lexer": "ipython3",
   "version": "3.11.8"
  }
 },
 "nbformat": 4,
 "nbformat_minor": 2
}
